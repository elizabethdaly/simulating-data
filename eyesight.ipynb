{
 "cells": [
  {
   "cell_type": "markdown",
   "metadata": {},
   "source": [
    "# 52465 Programming for Data Analysis"
   ]
  },
  {
   "cell_type": "markdown",
   "metadata": {},
   "source": [
    "# Project: Simulation of a data set relating to eyesight"
   ]
  },
  {
   "cell_type": "markdown",
   "metadata": {},
   "source": [
    "## Preliminaries"
   ]
  },
  {
   "cell_type": "markdown",
   "metadata": {},
   "source": [
    "All software required for this project is listed in the references below **[1-10]**. Here, we load the particular packages needed in the notebook."
   ]
  },
  {
   "cell_type": "code",
   "execution_count": 1,
   "metadata": {},
   "outputs": [],
   "source": [
    "%matplotlib inline\n",
    "import numpy as np\n",
    "import pandas as pd\n",
    "import matplotlib.pyplot as plt\n",
    "import seaborn as sns\n",
    "import scipy.stats as stats"
   ]
  },
  {
   "cell_type": "code",
   "execution_count": 2,
   "metadata": {},
   "outputs": [],
   "source": [
    "# Didn't use this in the end.\n",
    "# https://stackoverflow.com/questions/16816013/is-it-possible-to-print-using-different-colors-in-ipythons-notebook\n",
    "# from termcolor import colored\n",
    "\n",
    "# print(colored('hello', 'red'), colored('world', 'green'), colored(\"test\", 'blue'), colored(\"ing\", 'magenta'))"
   ]
  },
  {
   "cell_type": "markdown",
   "metadata": {},
   "source": [
    "Set plot preferences."
   ]
  },
  {
   "cell_type": "code",
   "execution_count": 3,
   "metadata": {},
   "outputs": [],
   "source": [
    "# This just sets the default plot size to be bigger.\n",
    "plt.rcParams['figure.figsize'] = (6, 4) #10,6\n",
    "# Set font size for axes labels etc.\n",
    "plt.rcParams['font.size'] = (14)\n",
    "\n",
    "## If I use Seaborn:\n",
    "## To pick a color palette\n",
    "# sns.choose_colorbrewer_palette(data_type=\"q\")\n",
    "\n",
    "## Set up my Seaborn plotting preferences.\n",
    "# current_palette = sns.color_palette()\n",
    "# sns.palplot(current_palette)\n",
    "# sns.set_style('whitegrid')\n"
   ]
  },
  {
   "cell_type": "markdown",
   "metadata": {},
   "source": [
    "***\n",
    "# 1. Introduction"
   ]
  },
  {
   "cell_type": "markdown",
   "metadata": {},
   "source": [
    "For this project, we have been asked to simulate a real-world phenomenon of our own choosing. Our task is to model and synthesize data relating to this phenomenon using Python, in particular the numpy.random package. The end product of this project should be a synthesized data set.   "
   ]
  },
  {
   "cell_type": "markdown",
   "metadata": {},
   "source": [
    "In this notebook I will examine the phenomenon of eyesight, specifically short-sightedness (also referred to as myopia). I wish to create a data set of variables associated with myopia. I would like to simulate the distribution of short-sightedness (myopia) in a random sample of the population. I would also like to explore the relationships, if any, between factors which seem to contribute to myopia. The questions I want to explore include: \n",
    "- What is the distribution of myopia in a random sample of the population?\n",
    "- What are the factors that contribute to myopia?\n",
    "- How are these individual factors/causes distributed in the population?\n",
    "- Are the causes related to each other in any way?\n",
    "- If so, how?"
   ]
  },
  {
   "cell_type": "markdown",
   "metadata": {},
   "source": [
    "At the outset, as I imagine what the final data set might look like, I want to picture what a Seaborn pairplot might look like for the synthesized data set. From initial research:\n",
    "- I expect the amount of myopia to be hereditary, suggesting use of a categorical variable to represent the strength of that hereditary factor. The pairplot might reveal clustering of data points for each value of that categorical variable.\n",
    "- I think that the amount of myopia may have some dependence on age. It usually starts sometime during childhood and progresses through adolescence. \n",
    "- I need to model the distribution of ages in the population.\n",
    "- I need to find out how myopia is actually distributed in the general population.\n",
    "- Myopia is possibly related to environmental factors such as the amount of time one spends doing close work, or alternatively, how much time one spends outdoors. I have a feeling that this may be related related to age."
   ]
  },
  {
   "cell_type": "markdown",
   "metadata": {},
   "source": [
    "***\n",
    "# 2. Myopia"
   ]
  },
  {
   "cell_type": "markdown",
   "metadata": {},
   "source": [
    "This part of the notebook contains a comprehensive explanation of what myopia is, how it is quantified and corrected, and my reasons for wanting to study this phenomenon. "
   ]
  },
  {
   "cell_type": "markdown",
   "metadata": {},
   "source": [
    "## 2.1 What is myopia?"
   ]
  },
  {
   "cell_type": "markdown",
   "metadata": {},
   "source": [
    "Myopia is also referred to as short-sightedness or near-sightedness **[11-14]**. I will stick to using the term myopia as it saves a bit of typing. It happens mainly because the eyeball grows too long so that distant objects appear blurry while only very close objects are sharp. It happens because light entering the eye comes to a focus in front of (rather than on) the back of the eye - the retina. This means that the clearest image of the object is formed in front of the retina rather than on it, where our brain records images. It is a refractive error of the eye: as light travels through the eye it is bent (refracted) and absorbed by the different structures it passes through, primarily the cornea and the lens. The cornea is the front surface of the eye and the lens is a transparent element behind the iris that helps to bring light to a focus. If the end result is that the light from an object comes to a focus away from the retina, then that person has a refractive error. In myopia light from distant objects comes to a focus in front of the retina."
   ]
  },
  {
   "cell_type": "markdown",
   "metadata": {},
   "source": [
    "<!--Drag and drop image to embed it-->\n",
    "<!--Not rendering in GitHub so maybe insert another way-->\n",
    "<!--![myopia-and-normal.jpg](attachment:myopia-and-normal.jpg)-->\n",
    "\n",
    "<!--![myopia](images/myopia-and-normal.jpg)-->\n",
    "<p align=\"center\"> \n",
    "    <img src=images/myopia-and-normal.jpg>\n",
    " </p>"
   ]
  },
  {
   "cell_type": "markdown",
   "metadata": {},
   "source": [
    "There are other common refractive errors apart from myopia. These include hyperopia (light comes to a focus behind the retina) and astigmatism (light in different planes comes to a focus at different points). A person with normal vision is emmetropic or, an emmetrope. The different refractive errors are illustrated below."
   ]
  },
  {
   "cell_type": "markdown",
   "metadata": {},
   "source": [
    "<!--![refErrors](images/Refractive-states-web.jpg)-->\n",
    "<p align=\"center\"> \n",
    "    <img src=images/Refractive-states-web.jpg width=\"400\" height=\"300\">\n",
    " </p>"
   ]
  },
  {
   "cell_type": "markdown",
   "metadata": {},
   "source": [
    "Myopia, hyperopia, and astigmatism are easily corrected by optometrists who prescribe glasses or contact lenses of the correct power **[15]**. In recent decades, laser eye surgery has also become very popular as a way to permanently correct these refractive errors for suitable candidates. It does so by re-shaping the surface of the cornea, changing its shape, and therefore changing how light is refracted as it travels through the front of the eye. On the surface it seems like an attractive option, but it is permanent and not without its own risks."
   ]
  },
  {
   "cell_type": "markdown",
   "metadata": {},
   "source": [
    "## 2.2 How is it quantified and corrected?"
   ]
  },
  {
   "cell_type": "markdown",
   "metadata": {},
   "source": [
    "Refraction is measured in units called Dioptres (D), which is the reciprocal of focal length f measured in metres:\n",
    "\n",
    "$$D = 1/f(m)$$\n",
    "\n",
    "For example, 1 D = 1/(f=1m), 2 D = 1/(f=0.5m), 3 D = 1/(f=0.33m) and so on. So a 5 D lens would focus light at 1/5 = 0.2 m. For a person with normal vision, the combined power of the lens and cornea is 60 D (meaning the human eye focal length is approximately 17 mm). The amount of myopia is quantified by the power of the lens required to correct it (move the best focus back onto the retina). Negative values are needed to correct myopia so a sort-sighted person might have a prescription of -2 D perhaps. Conversely, a person with hyperopia (far-sighted) will have a positive prescription.  The severity of myopia is quantified as follows:\n",
    "- mild if the amount is less than 3 D\n",
    "- moderate if in the range -3 to -6 D\n",
    "- high if more than -6 D\n",
    "\n",
    "The current threshold value for myopia is a refractive error of less than or equal to -0.50 D. So someone with a -0.25 D error is not technically short-sighted. Lenses used for myopia correction usually come in 0.25 D steps - the closest one to a patient's prescription is used. The image below shows how a negative (concave) lens is used to correct myopia."
   ]
  },
  {
   "cell_type": "markdown",
   "metadata": {},
   "source": [
    "<p align=\"center\"> \n",
    "    <img src=images/myopia-verses-myopia-corrected.png>\n",
    " </p>"
   ]
  },
  {
   "cell_type": "code",
   "execution_count": 4,
   "metadata": {},
   "outputs": [
    {
     "data": {
      "text/plain": [
       "Text(6.2, 0.9, 'high')"
      ]
     },
     "execution_count": 4,
     "metadata": {},
     "output_type": "execute_result"
    },
    {
     "data": {
      "image/png": "[encoded data removed]",
      "text/plain": [
       "<Figure size 432x288 with 1 Axes>"
      ]
     },
     "metadata": {
      "needs_background": "light"
     },
     "output_type": "display_data"
    }
   ],
   "source": [
    "## Illustrate D vs f\n",
    "d = np.linspace(1, 7, 24)\n",
    "f = 1 / d\n",
    "\n",
    "plt.plot(d, f, 'go')\n",
    "plt.title(\"f versus D\")\n",
    "plt.xlabel(\"Dioptres (D)\")\n",
    "plt.ylabel(\"Focal length (m)\")\n",
    "plt.grid()\n",
    "# Show limits\n",
    "plt.plot([3, 3], [0, 1], 'b-')\n",
    "plt.plot([6, 6], [0, 1], 'r-')\n",
    "plt.text(1.5, 0.9, \"mild\", fontsize=18)\n",
    "plt.text(3.5, 0.9, \"moderate\", fontsize=18)\n",
    "plt.text(6.2, 0.9, \"high\", fontsize=18)"
   ]
  },
  {
   "cell_type": "markdown",
   "metadata": {},
   "source": [
    "## 2.3 Why this question?"
   ]
  },
  {
   "cell_type": "markdown",
   "metadata": {},
   "source": [
    "I'm interested in this question on a personal level because my teenage daughter has myopia. She started wearing glasses when she was nine years old, and every year her prescription went up a little, as expected. However, when she was 14 years old her eyesight deteriorated and her prescription almost doubled in just 10 months. By that stage she had the same prescription as her dad. Myopia progresses as you (and your eyeballs) grow, so if she continued on this track her optometrist speculated that she could end up at -5 or -6 D by the time she had finished growing. She is now wearing myopia correcting contact lenses for six days out of every seven, in an attempt to slow her myopia progression **[16]**. These lenses have a central pupil which provides correction in the same way as ordinary contact lenses do. However, they also have a peripheral ring on the outside edge of the lens, where the correction is lower so that light from this part of the lens comes to a focus in front of the retina. Somehow, (I haven't been able to find the exact detail of how they work), this discourages growth of the eyeball and therefore slows myopia progression. They appear to be working - fingers crossed."
   ]
  },
  {
   "cell_type": "markdown",
   "metadata": {},
   "source": [
    "I'm also interested in this subject on a professional level because for many years I worked as a physicist building instruments to take very high-resolution images of the human eye. Light travelling from the retina out of the eye to form an image in a camera is affected by refractive errors in the same way as light coming into the eye. So errors like focus and astigmatism above, along with ones that have higher spatial frequencies, can degrade the quality of retinal images. I  measured higher order refractive errors in the eye and attempted to correct them using active optics. These are errors which cannot be compensated for using lenses, as they have complicated spatial patterns when measured over the pupil of the eye. The aim of that research was not to improve vision, rather to improve the quality of images of the retina."
   ]
  },
  {
   "cell_type": "markdown",
   "metadata": {},
   "source": [
    "There appears to be a very strong genetic component to myopia. Among my five siblings, only one started wearing glasses as a child, but my husband and all three of his siblings did. Typically, a child who has myopia will end up with more of it than their parent/s. So it progresses with each generation. Nowadays, one in four people has some degree of myopia and it appears to be becoming more prevalent **[17]**. It is estimated that, if current trends continue, half of the world's population could have myopia by 2050. I'm interested in the reasons for this."
   ]
  },
  {
   "cell_type": "markdown",
   "metadata": {},
   "source": [
    "## 2.4 What are the risks associated with myopia?"
   ]
  },
  {
   "cell_type": "markdown",
   "metadata": {},
   "source": [
    "It is inconvenient to wear glasses or contact lenses every day, especially for someone who does a lot of sports; I can't imagine not being able to see clearly when swimming, for example. Apart from this, there are also more serious consequences of having high myopia **[18]**. In later life it is associated with an increased risk of retinal detachment, glaucoma, cataracts and other types of damage in the central retinal area. This higher risk comes from having a longer eyeball where the tissues are thinner and stretched; this thin tissue is more susceptible to tears, inflammation, weak blood vessels, and scarring. These pose serious threats to eyesight."
   ]
  },
  {
   "cell_type": "markdown",
   "metadata": {},
   "source": [
    "***\n",
    "# 3. Factors associated with myopia"
   ]
  },
  {
   "cell_type": "markdown",
   "metadata": {},
   "source": [
    "Some of the factors which contribute to, or are associated with, myopia are:\n",
    "- **Genes**; one is much more likely to by myopic if one or both parents are. This could be modelled with a categorical variable of values 0, 1, 2 reflecting no, some, or a strong genetic predisposition. \n",
    "- The amount of **close work** done such as reading, use of screens, or mechanical work can influence the progression of myopia. This would be a continuous numerical variable representing time.\n",
    "- There is some evidence to suggest that increasing the amount of **time spent outdoors** may have a protective effect against myopia. Another continuous numerical  variable representing time.\n",
    "- It's unusual for young children to develop myopia. It's usually picked up towards the end of primary school. So, there must be some association with **age**, which is a positive integer.\n",
    "- **Education** may play a role. Those with more education have spent more time doing close work, so it could be associated with level of education. The level might be a categorical variable of value primary, secondary, third, for example. **[19]**\n",
    "- **Socio-economic status may also be a factor**. In a sweeping generalization, I would say that those of higher social class are more likely to progress to higher levels of education, therefore spending more time doing close work (less time outside), possibly increasing the progression of myopia, *if* the genetic predisposition is already there. Social class would be a categorical variable reflecting the, apparently, seven levels: elite, established middle class, technical middle class, new affluent workers, traditional working class, emergent service workers, and precariat **[20, 21]**. \n",
    "- **Gender** is a possible option, not because one gender is more or less likely to be myopic, just because it is a common thing to record when taking a random sample of people. Commonly represented as a Male, Female categorical variable in data sets.\n",
    "- The measure of myopia, **refractive error**, is the most important variable associated with myopia. This is a numerical variable. It is negative, with two decimal places, because this is how glasses prescriptions are quantified."
   ]
  },
  {
   "cell_type": "markdown",
   "metadata": {},
   "source": [
    "For this project I have decided to examine four variables in detail. In the next section I investigate each of them in turn. The variables I have chosen are: \n",
    "1. Genes,\n",
    "2. Refractive error (or prescription),\n",
    "3. Age,\n",
    "4. The environmental factor of hours spent outside each day."
   ]
  },
  {
   "cell_type": "markdown",
   "metadata": {},
   "source": [
    "***\n",
    "## 4. Investigation of variables associated with myopia"
   ]
  },
  {
   "cell_type": "code",
   "execution_count": 5,
   "metadata": {},
   "outputs": [],
   "source": [
    "# number of samples/observations in the data set\n",
    "n = 400"
   ]
  },
  {
   "cell_type": "markdown",
   "metadata": {},
   "source": [
    "## 4.1 Genes"
   ]
  },
  {
   "cell_type": "markdown",
   "metadata": {},
   "source": [
    "This variable will be called **genes**. It is a categorical variable which can take on one of three values depending on how many parents are myopic. Possible values are:\n",
    "- none if neither parent is myopic\n",
    "- some if one parent is\n",
    "- strong if both parents are"
   ]
  },
  {
   "cell_type": "code",
   "execution_count": 6,
   "metadata": {},
   "outputs": [
    {
     "name": "stdout",
     "output_type": "stream",
     "text": [
      "None:  229\n",
      "Some:  129\n",
      "Strong:  42\n"
     ]
    }
   ],
   "source": [
    "# Classify genetic predisposition to myopia depending on how many parents are myopic\n",
    "# 'none' if neither, 'some' if one, 'strong' if both\n",
    "genetic_predisp = ['none', 'some', 'strong']\n",
    "\n",
    "# In a random sample, what is the probability of finding each of these predispositions?\n",
    "# UK: 25% have myopia (higher in far East), 4% high, so 75% don't. Reflect this roughly in the distribution.\n",
    "genes = np.random.choice(genetic_predisp, n, p=[0.6, 0.30, 0.10])\n",
    "\n",
    "# https://stackoverflow.com/questions/28663856/how-to-count-the-occurrence-of-certain-item-in-an-ndarray-in-python\n",
    "print(\"None: \", np.count_nonzero(genes == 'none'))\n",
    "print(\"Some: \", np.count_nonzero(genes == 'some'))\n",
    "print(\"Strong: \", np.count_nonzero(genes == 'strong'))"
   ]
  },
  {
   "cell_type": "markdown",
   "metadata": {},
   "source": [
    "This genetic predisposition will have some influence on how much myopia each person has **[22-25]**. At this stage of the analysis, I am not sure of the scale factor from none to weak to strong **[26]**; I will explore that further in the section on refraction."
   ]
  },
  {
   "cell_type": "markdown",
   "metadata": {},
   "source": [
    "## 4.2 Refractive error"
   ]
  },
  {
   "cell_type": "markdown",
   "metadata": {},
   "source": [
    "This variable will be called **myopia**. It is a numerical variable, a negative real number with two decimal places. It has a maximum value of zero (no myopia) and it increases in the negative direction. It is the most important variable in my data set. I think a normal distribution would be a good place to start to investigate this variable as the normal distribution is very common in nature (as outlined in my numpy.random project for this module). I searched for histograms showing prevalence of myopia to find the best mean and standard deviations to use in a European population similar to Ireland **[27]**."
   ]
  },
  {
   "cell_type": "code",
   "execution_count": 7,
   "metadata": {},
   "outputs": [
    {
     "data": {
      "image/png": "[encoded data removed]",
      "text/plain": [
       "<Figure size 432x288 with 1 Axes>"
      ]
     },
     "metadata": {
      "needs_background": "light"
     },
     "output_type": "display_data"
    }
   ],
   "source": [
    "# Model refractive error with a normal distribution first.\n",
    "# https://www.ncbi.nlm.nih.gov/pmc/articles/PMC5800189/\n",
    "# Values for mean and standard deviation of myopes in Poland.\n",
    "# mean, std\n",
    "m, s = -3.1, 2.4\n",
    "n1 = np.random.normal(m, s, n)\n",
    "\n",
    "plt.hist(n1, bins=20, density=True, alpha=0.5)\n",
    "plt.xlabel(\"Refractive error (D)\")\n",
    "plt.ylabel(\"Frequency\")\n",
    "plt.grid()"
   ]
  },
  {
   "cell_type": "markdown",
   "metadata": {},
   "source": [
    "However, by definition, myopia is a negative refractive error, so the distribution should not have any positive values. For that reason, a truncated normal distribution would be a good candidate to represent myopia in a population. "
   ]
  },
  {
   "cell_type": "code",
   "execution_count": 8,
   "metadata": {},
   "outputs": [
    {
     "data": {
      "image/png": "[encoded data removed]",
      "text/plain": [
       "<Figure size 432x288 with 1 Axes>"
      ]
     },
     "metadata": {
      "needs_background": "light"
     },
     "output_type": "display_data"
    }
   ],
   "source": [
    "# Modified from:\n",
    "# https://stackoverflow.com/questions/18441779/how-to-specify-upper-and-lower-limits-when-using-numpy-random-normal\n",
    "\n",
    "# https://www.ncbi.nlm.nih.gov/pmc/articles/PMC5800189/\n",
    "# Values for mean and standard deviation of myopes in Poland.\n",
    "# mean, std\n",
    "mu, sigma = -3.1, 2.4\n",
    "lower, upper = -12, 0\n",
    "\n",
    "#instantiate an object X using the above four parameters,\n",
    "X = stats.truncnorm((lower - mu) / sigma, (upper - mu) / sigma, loc=mu, scale=sigma)\n",
    "\n",
    "#generate 1000 sample data points\n",
    "samples = X.rvs(1000)\n",
    "\n",
    "#compute the PDF of the sample data\n",
    "pdf_probs = stats.truncnorm.pdf(samples, (lower-mu)/sigma, (upper-mu)/sigma, mu, sigma)\n",
    "\n",
    "plt.hist(samples, bins= 20, density=True, alpha=0.5, label='histogram')\n",
    "plt.plot(samples[samples.argsort()], pdf_probs[samples.argsort()], 'k', label='pdf')\n",
    "plt.xlabel(\"Refractive error (D)\")\n",
    "plt.ylabel(\"Frequency\")\n",
    "\n",
    "# Mark off mild, moderate, high myopia\n",
    "plt.plot([-3, -3], [0.0, 0.20], 'b-')\n",
    "plt.plot([-6, -6], [0.0, 0.20], 'r-')\n",
    "plt.text(-2, 0.05, \"mild\", fontsize=18)\n",
    "plt.text(-5, 0.05, \"mod.\", fontsize=18)\n",
    "plt.text(-9, 0.05, \"high\", fontsize=18)\n",
    "\n",
    "plt.legend()\n",
    "plt.grid()"
   ]
  },
  {
   "cell_type": "markdown",
   "metadata": {},
   "source": [
    "The vertical lines  show the limits of weak, moderate, and high myopia on this probability distribution function. Myopia is defined as a refractive error of $\\leq$ 0.5 D and approximately 25% of people are myopic. The rest (75%) are not. So the histogram above must apply to people **with** myopia, not the general population. Perhaps those with a genetic predisposition could be sampled from here? The rest could be sampled from a uniform distribution with some noise added to throw some people into mild clinical myopia. In the UK 200,000 out of 5 million have high myopia, that's 4% **[28]**. \n",
    "Perhaps we can tie this to genetic factor above?* Or, select 75% from uniform, 25% from truncated normal and apply genetics after as a boost. We will investigate the best approach now."
   ]
  },
  {
   "cell_type": "markdown",
   "metadata": {},
   "source": [
    "For those with no myopia, we could sample from a uniform distribution with some added noise. I think the noise is important because sometimes those with no myopic parents can develop myopia, it's just relatively unlikely and the amount is probably small."
   ]
  },
  {
   "cell_type": "code",
   "execution_count": 9,
   "metadata": {},
   "outputs": [
    {
     "data": {
      "text/plain": [
       "Text(0, 0.5, 'D')"
      ]
     },
     "execution_count": 9,
     "metadata": {},
     "output_type": "execute_result"
    },
    {
     "data": {
      "image/png": "[encoded data removed]",
      "text/plain": [
       "<Figure size 432x288 with 1 Axes>"
      ]
     },
     "metadata": {
      "needs_background": "light"
     },
     "output_type": "display_data"
    }
   ],
   "source": [
    "# Sample from a uniform distribution with some added noise.\n",
    "base =  np.random.uniform(0, -0.5, n) + np.random.normal(0, 0.1, n)\n",
    "# Beware positive values\n",
    "x = np.arange(0, n)\n",
    "plt.plot(x, base)\n",
    "plt.plot([0, n], [-0.5, -0.5], 'r')\n",
    "plt.text(50, -0.7, \"Myopic\", fontsize=18)\n",
    "plt.text(50, 0.1, \"Not myopic\", fontsize=18)\n",
    "\n",
    "plt.grid()\n",
    "plt.ylabel('D')"
   ]
  },
  {
   "cell_type": "markdown",
   "metadata": {},
   "source": [
    "I think I will link refractive error to genetics **[29]**. Each value of genetic predisposition will result in a sample being taken from a different distribution, centred on different values of refraction.  "
   ]
  },
  {
   "cell_type": "code",
   "execution_count": 10,
   "metadata": {},
   "outputs": [
    {
     "name": "stdout",
     "output_type": "stream",
     "text": [
      "229.0\n",
      "129.0\n",
      "42.0\n",
      "400.0\n"
     ]
    }
   ],
   "source": [
    "# What fraction of sample has each genetic predisposition?\n",
    "fnone = np.count_nonzero(genes == 'none')/len(genes)\n",
    "fsome = np.count_nonzero(genes == 'some')/len(genes)\n",
    "fstrong = np.count_nonzero(genes == 'strong')/len(genes)\n",
    "\n",
    "# Generate samples based on these fractions\n",
    "print(n * fnone)\n",
    "print(n * fsome)\n",
    "print(n * fstrong)\n",
    "\n",
    "# Want sum to always add to n for generating final dataframe. Doesn't always, so beware.\n",
    "# Will be ok when genearting the final data set as each value in the genes column will be assigned a ref error.\n",
    "print(n * (fnone + fsome + fstrong))"
   ]
  },
  {
   "cell_type": "markdown",
   "metadata": {},
   "source": [
    "For now, I just want to generate three distributions of refraction, each associated with a genetic predisposition, and see if the final distribution looks sensible."
   ]
  },
  {
   "cell_type": "code",
   "execution_count": 11,
   "metadata": {},
   "outputs": [
    {
     "name": "stdout",
     "output_type": "stream",
     "text": [
      "458\n",
      "258\n",
      "84\n",
      "800\n"
     ]
    },
    {
     "data": {
      "image/png": "[encoded data removed]",
      "text/plain": [
       "<Figure size 432x288 with 1 Axes>"
      ]
     },
     "metadata": {
      "needs_background": "light"
     },
     "output_type": "display_data"
    }
   ],
   "source": [
    "# Three distributions with different means and standard deviation. \n",
    "m0, s0 =  0, 0.5 # if Genes = none\n",
    "m1, s1 = -3.2, 2.4 # if Genes = some\n",
    "m2, s2 = -5, 2.4 # if Genes = strong\n",
    "\n",
    "# Number of samples from each group reflects the number in that group.\n",
    "# n from strong, more from some, more again from none\n",
    "n0 = np.random.normal(m0, s0, int(2 *n * fnone))\n",
    "# OR\n",
    "# n0 = np.random.uniform(0, -0.5, int(2 *n * fnone)) + np.random.normal(0, 0.1, int(2 *n * fnone))\n",
    "n1 = np.random.normal(m1, s1, int(2 * n * fsome))\n",
    "n2 = np.random.normal(m2, s2, int(2 * n * fstrong))\n",
    "\n",
    "print(len(n0))\n",
    "print(len(n1))\n",
    "print(len(n2))\n",
    "print(len(n0) + len(n1) + len(n2))\n",
    "\n",
    "plt.hist(n0, bins=20, density=True, alpha=0.5, FaceColor='b', label=\"none\")\n",
    "plt.hist(n1, bins=20, density=True, alpha=0.5, FaceColor='g', label=\"some\")\n",
    "plt.hist(n2, bins=20, density=True, alpha=0.5, FaceColor='r', label=\"strong\")\n",
    "plt.xlabel(\"Refractive error (D)\")\n",
    "plt.ylabel(\"Frequency\")\n",
    "plt.legend()\n",
    "plt.grid()"
   ]
  },
  {
   "cell_type": "markdown",
   "metadata": {},
   "source": [
    "This looks ok - looks even better if the number of samples is huge. If I combine these three, what does the resulting distribution look like?"
   ]
  },
  {
   "cell_type": "code",
   "execution_count": 12,
   "metadata": {},
   "outputs": [
    {
     "name": "stdout",
     "output_type": "stream",
     "text": [
      "400\n"
     ]
    },
    {
     "data": {
      "image/png": "[encoded data removed]",
      "text/plain": [
       "<Figure size 432x288 with 1 Axes>"
      ]
     },
     "metadata": {
      "needs_background": "light"
     },
     "output_type": "display_data"
    }
   ],
   "source": [
    "# Can see three populations, none, some, and strong\n",
    "# Trying to replicate the truncated normal distribution above.\n",
    "\n",
    "# Combine the three samples and pick n at random from the lot.\n",
    "# Beware, I am losing the association with genes.\n",
    "# However, I won't be doing it like this in the end, just for testing now.\n",
    "\n",
    "r = np.concatenate((n0, n1, n2), axis=None)\n",
    "err = np.random.choice(r, n, replace=False)\n",
    "\n",
    "# Histograms\n",
    "plt.hist(err, bins=20, density=True, alpha=0.5)\n",
    "plt.xlabel(\"Refractive error (D)\")\n",
    "plt.ylabel(\"Frequency\")\n",
    "plt.grid()\n",
    "print(len(err))"
   ]
  },
  {
   "cell_type": "markdown",
   "metadata": {},
   "source": [
    "The results seem to be sensible; most people are not myopic and there is a tail with decreasing probability towards high values of myopia. I would also need to ignore positive values. There are possibly too many large values of refraction in the sample (I may revisit this later on), but the trend is good. So, I think this is the approach I will take when generating a column of refractive error values based on the genes categorical variable."
   ]
  },
  {
   "cell_type": "markdown",
   "metadata": {},
   "source": [
    "## 4.3 Age\n",
    "This variable will be called age. It is a numerical variable, a positive integer. It has a minimum value of zero and it increases in the positive direction. I need to find out what the typical distribution of ages is in a population, so that I can then relate environmental factors to age. It was not as easy as I thought it would be to find a distribution to replicate ages in a population. What comes up a lot is the age-sex population pyramid **[30, 31]**, a horizontal bar chart which shows the distribution of age groups in a population, usually broken down into males and females. Each country has its own characteristic population pyramid. The shape of the pyramid can show if the population is young (large base), older (large top), and what the dependence ratio is (how these numbers compare to the numbers working). I looked at the Central Statistics Office (CSO) website to find such information for Ireland from the 2016 census **[32]** as I would like to simulate this distribution of ages in the Irish population. The actual distribution of ages in 2016 looks like: "
   ]
  },
  {
   "cell_type": "markdown",
   "metadata": {},
   "source": [
    "<p align=\"center\"> \n",
    "    <img src=images/census2016_popPyramid.JPG width=\"500\" height=\"500\">\n",
    " </p>"
   ]
  },
  {
   "cell_type": "markdown",
   "metadata": {},
   "source": [
    "The CSO website has population data tables from the 2016 census. I'm not interested in any distinction between males and females for this project; I just want the total numbers. I'll read in the file and see what it looks like:"
   ]
  },
  {
   "cell_type": "code",
   "execution_count": 13,
   "metadata": {},
   "outputs": [
    {
     "data": {
      "text/html": [
       "<div>\n",
       "<style scoped>\n",
       "    .dataframe tbody tr th:only-of-type {\n",
       "        vertical-align: middle;\n",
       "    }\n",
       "\n",
       "    .dataframe tbody tr th {\n",
       "        vertical-align: top;\n",
       "    }\n",
       "\n",
       "    .dataframe thead th {\n",
       "        text-align: right;\n",
       "    }\n",
       "</style>\n",
       "<table border=\"1\" class=\"dataframe\">\n",
       "  <thead>\n",
       "    <tr style=\"text-align: right;\">\n",
       "      <th></th>\n",
       "      <th>0</th>\n",
       "      <th>1</th>\n",
       "      <th>years</th>\n",
       "      <th>pop</th>\n",
       "      <th>npop</th>\n",
       "    </tr>\n",
       "  </thead>\n",
       "  <tbody>\n",
       "    <tr>\n",
       "      <th>0</th>\n",
       "      <td>0 - 4 years</td>\n",
       "      <td>331515</td>\n",
       "      <td>2</td>\n",
       "      <td>331515</td>\n",
       "      <td>0.851302</td>\n",
       "    </tr>\n",
       "    <tr>\n",
       "      <th>1</th>\n",
       "      <td>5 - 9 years</td>\n",
       "      <td>355561</td>\n",
       "      <td>7</td>\n",
       "      <td>355561</td>\n",
       "      <td>0.913050</td>\n",
       "    </tr>\n",
       "    <tr>\n",
       "      <th>2</th>\n",
       "      <td>10 - 14 years</td>\n",
       "      <td>319476</td>\n",
       "      <td>12</td>\n",
       "      <td>319476</td>\n",
       "      <td>0.820387</td>\n",
       "    </tr>\n",
       "    <tr>\n",
       "      <th>3</th>\n",
       "      <td>15 - 19 years</td>\n",
       "      <td>302816</td>\n",
       "      <td>17</td>\n",
       "      <td>302816</td>\n",
       "      <td>0.777606</td>\n",
       "    </tr>\n",
       "    <tr>\n",
       "      <th>4</th>\n",
       "      <td>20 - 24 years</td>\n",
       "      <td>273636</td>\n",
       "      <td>22</td>\n",
       "      <td>273636</td>\n",
       "      <td>0.702674</td>\n",
       "    </tr>\n",
       "    <tr>\n",
       "      <th>5</th>\n",
       "      <td>25 - 29 years</td>\n",
       "      <td>297435</td>\n",
       "      <td>27</td>\n",
       "      <td>297435</td>\n",
       "      <td>0.763788</td>\n",
       "    </tr>\n",
       "    <tr>\n",
       "      <th>6</th>\n",
       "      <td>30 - 34 years</td>\n",
       "      <td>361975</td>\n",
       "      <td>32</td>\n",
       "      <td>361975</td>\n",
       "      <td>0.929521</td>\n",
       "    </tr>\n",
       "    <tr>\n",
       "      <th>7</th>\n",
       "      <td>35 - 39 years</td>\n",
       "      <td>389421</td>\n",
       "      <td>37</td>\n",
       "      <td>389421</td>\n",
       "      <td>1.000000</td>\n",
       "    </tr>\n",
       "    <tr>\n",
       "      <th>8</th>\n",
       "      <td>40 - 44 years</td>\n",
       "      <td>357460</td>\n",
       "      <td>42</td>\n",
       "      <td>357460</td>\n",
       "      <td>0.917927</td>\n",
       "    </tr>\n",
       "    <tr>\n",
       "      <th>9</th>\n",
       "      <td>45 - 49 years</td>\n",
       "      <td>326110</td>\n",
       "      <td>47</td>\n",
       "      <td>326110</td>\n",
       "      <td>0.837423</td>\n",
       "    </tr>\n",
       "    <tr>\n",
       "      <th>10</th>\n",
       "      <td>50 - 54 years</td>\n",
       "      <td>299935</td>\n",
       "      <td>52</td>\n",
       "      <td>299935</td>\n",
       "      <td>0.770208</td>\n",
       "    </tr>\n",
       "    <tr>\n",
       "      <th>11</th>\n",
       "      <td>55 - 59 years</td>\n",
       "      <td>270102</td>\n",
       "      <td>57</td>\n",
       "      <td>270102</td>\n",
       "      <td>0.693599</td>\n",
       "    </tr>\n",
       "    <tr>\n",
       "      <th>12</th>\n",
       "      <td>60 - 64 years</td>\n",
       "      <td>238856</td>\n",
       "      <td>62</td>\n",
       "      <td>238856</td>\n",
       "      <td>0.613362</td>\n",
       "    </tr>\n",
       "    <tr>\n",
       "      <th>13</th>\n",
       "      <td>65 - 69 years</td>\n",
       "      <td>211236</td>\n",
       "      <td>67</td>\n",
       "      <td>211236</td>\n",
       "      <td>0.542436</td>\n",
       "    </tr>\n",
       "    <tr>\n",
       "      <th>14</th>\n",
       "      <td>70 - 74 years</td>\n",
       "      <td>162272</td>\n",
       "      <td>72</td>\n",
       "      <td>162272</td>\n",
       "      <td>0.416701</td>\n",
       "    </tr>\n",
       "    <tr>\n",
       "      <th>15</th>\n",
       "      <td>75 - 79 years</td>\n",
       "      <td>115467</td>\n",
       "      <td>77</td>\n",
       "      <td>115467</td>\n",
       "      <td>0.296509</td>\n",
       "    </tr>\n",
       "    <tr>\n",
       "      <th>16</th>\n",
       "      <td>80 - 84 years</td>\n",
       "      <td>81037</td>\n",
       "      <td>82</td>\n",
       "      <td>81037</td>\n",
       "      <td>0.208096</td>\n",
       "    </tr>\n",
       "    <tr>\n",
       "      <th>17</th>\n",
       "      <td>85 years and over</td>\n",
       "      <td>67555</td>\n",
       "      <td>87</td>\n",
       "      <td>67555</td>\n",
       "      <td>0.173475</td>\n",
       "    </tr>\n",
       "  </tbody>\n",
       "</table>\n",
       "</div>"
      ],
      "text/plain": [
       "                    0       1  years     pop      npop\n",
       "0         0 - 4 years  331515      2  331515  0.851302\n",
       "1         5 - 9 years  355561      7  355561  0.913050\n",
       "2       10 - 14 years  319476     12  319476  0.820387\n",
       "3       15 - 19 years  302816     17  302816  0.777606\n",
       "4       20 - 24 years  273636     22  273636  0.702674\n",
       "5       25 - 29 years  297435     27  297435  0.763788\n",
       "6       30 - 34 years  361975     32  361975  0.929521\n",
       "7       35 - 39 years  389421     37  389421  1.000000\n",
       "8       40 - 44 years  357460     42  357460  0.917927\n",
       "9       45 - 49 years  326110     47  326110  0.837423\n",
       "10      50 - 54 years  299935     52  299935  0.770208\n",
       "11      55 - 59 years  270102     57  270102  0.693599\n",
       "12      60 - 64 years  238856     62  238856  0.613362\n",
       "13      65 - 69 years  211236     67  211236  0.542436\n",
       "14      70 - 74 years  162272     72  162272  0.416701\n",
       "15      75 - 79 years  115467     77  115467  0.296509\n",
       "16      80 - 84 years   81037     82   81037  0.208096\n",
       "17  85 years and over   67555     87   67555  0.173475"
      ]
     },
     "execution_count": 13,
     "metadata": {},
     "output_type": "execute_result"
    }
   ],
   "source": [
    "# Read in 2016 census data.\n",
    "df = pd.read_csv('data\\census2016.csv', header=None, nrows=18)\n",
    "\n",
    "# Generate an 'age' label = to mid point of each age bin in the file.\n",
    "df['years'] = np.arange(2, 89, 5)\n",
    "\n",
    "# Generate a label for population\n",
    "df['pop'] = df.iloc[:,1]\n",
    "\n",
    "# Normalize data to max population\n",
    "df['npop'] = df['pop']/df['pop'].max()\n",
    "df"
   ]
  },
  {
   "cell_type": "code",
   "execution_count": 14,
   "metadata": {},
   "outputs": [
    {
     "data": {
      "image/png": "[encoded data removed]",
      "text/plain": [
       "<Figure size 432x288 with 1 Axes>"
      ]
     },
     "metadata": {
      "needs_background": "light"
     },
     "output_type": "display_data"
    }
   ],
   "source": [
    "# What does this look like on a bar chart?\n",
    "plt.bar(df['years'], df['npop'], width=3.2)\n",
    "plt.xlabel('Age')\n",
    "plt.ylabel('Normalized population')\n",
    "plt.grid()"
   ]
  },
  {
   "cell_type": "markdown",
   "metadata": {},
   "source": [
    "Ireland has a bulge at around seven years, and another at around 37 years. These reflect large populations of children and adults in their 30s. I would like to find a distribution that mimics this. The numpy random triangular distribution is often used when the underlying distribution of some variable is not known, but the limits and the mode are. I will use two triangular distributions, one with mode = 7 and the other with mode = 37. I'll join the two random samples and then pick n points at random from the resulting array."
   ]
  },
  {
   "cell_type": "code",
   "execution_count": 15,
   "metadata": {},
   "outputs": [
    {
     "data": {
      "image/png": "[encoded data removed]",
      "text/plain": [
       "<Figure size 432x288 with 1 Axes>"
      ]
     },
     "metadata": {
      "needs_background": "light"
     },
     "output_type": "display_data"
    }
   ],
   "source": [
    "# Set up a distribution with mode = 7, limits 0 to 20 years.\n",
    "young = np.random.triangular(0, 7, 20, n)\n",
    "#plt.hist(young, bins=20, density=True, alpha=0.3, FaceColor='g')\n",
    "\n",
    "# Set up a distribution with mode = 37, limits 0 to 100 years.\n",
    "# Take five times as many samples from this distribution to reflect\n",
    "# the range being five times larger than the young distribution. \n",
    "old = np.random.triangular(0, 37, 100, 5 * n)\n",
    "#plt.hist(old, bins=20, density=True, alpha=0.3, FaceColor='r')\n",
    "\n",
    "# Join them.\n",
    "a = np.concatenate((young, old), axis=None)\n",
    "#np.size(a)\n",
    "\n",
    "# Now pick n at random from the resulting list\n",
    "age = np.random.choice(a, n, replace=False)\n",
    "\n",
    "# Convert to integers for age\n",
    "# https://docs.scipy.org/doc/numpy/reference/generated/numpy.ndarray.astype.html\n",
    "yrs = age.astype(int)\n",
    "\n",
    "# Plot histogam.\n",
    "plt.hist(age, bins=20, width=3, density=True, alpha=0.5, FaceColor='b' )\n",
    "plt.xlabel('Age')\n",
    "plt.ylabel('Frequency')\n",
    "plt.grid()\n",
    "#yrs"
   ]
  },
  {
   "cell_type": "code",
   "execution_count": 16,
   "metadata": {},
   "outputs": [],
   "source": [
    "# Do this in a few lines with:\n",
    "r = np.concatenate((np.random.triangular(0, 7, 20, n), np.random.triangular(0, 37, 100, 5 * n)), axis=None)\n",
    "age = np.random.choice(r, n, replace=False)\n",
    "#plt.hist(age, bins=20, width=3.2, density=True, alpha=0.4)"
   ]
  },
  {
   "cell_type": "markdown",
   "metadata": {},
   "source": [
    "I played around with various parameters until I found the ones which best reproduce the population pyramid above. It always works better with lots of samples. The main features I want to replicate are the two bulges at about 7 and 37 years and a fall off in numbers towards older ages."
   ]
  },
  {
   "cell_type": "markdown",
   "metadata": {},
   "source": [
    "## 4.4 Environmental factors"
   ]
  },
  {
   "cell_type": "markdown",
   "metadata": {},
   "source": [
    "Lots of articles on myopia say that time spent outdoors (especially during childhood) is thought to have a protective effect against myopia **[33-35]**. If someone increases the amount of time they spend outside, they must be reducing the time they spend inside doing close work like reading, or looking at phone and computer screens. When outside we tend to be looking at objects in the distance so our eyes are not working hard to bring close objects into focus. Imagine children in a playground or playing catch in the school yard, and adults out walking the dog or playing five-a-side football. Apart from any association with myopia, being outside is good for general well-being **[36]**, but children nowadays spend much less time outside than previous generations did **[37, 38]**."
   ]
  },
  {
   "cell_type": "markdown",
   "metadata": {},
   "source": [
    "I will model environmental factors as a numerical variable, with one decimal place, representing hours spent outside per day. It will have a minimum value of zero. I will attempt to estimate in a very general way how much time people spend outside at different stages of their life,so this variable will depend on the age variable above. I found some sites that reported time spent each day on leisure activities, not necessarily all outside ones, on which I will base my code **[39, 40]**. I used the interactive tool in one link to roughly estimate this parameter in broad age groups; the peak is around 4 hours per day outside **[41]**. Babies don't spend too much time outside, but this increases when they become toddlers and start play-school perhaps. Primary school children probably spend a reasonable amount of time outside: at school break times, playing sports, or on the street with their friends, for example. It might increase again for teenagers who have longer school days but more independence to be outside without adult supervision. As people progress through college and into working life, they must make more of an effort to get outside, possibly leisure or sports activities. When I count up the hours I spend outside each week it's actually surprisingly low, especially in winter. I want to find a relatively simple relationship between age in years and time outside per day in hours."
   ]
  },
  {
   "cell_type": "code",
   "execution_count": 17,
   "metadata": {},
   "outputs": [
    {
     "data": {
      "image/png": "[encoded data removed]",
      "text/plain": [
       "<Figure size 432x288 with 1 Axes>"
      ]
     },
     "metadata": {
      "needs_background": "light"
     },
     "output_type": "display_data"
    }
   ],
   "source": [
    "# Expect hours outside to vary with age, looks like the pdf for a Rayleigh but falls to zero too early. \n",
    "x = np.arange(0, 101)\n",
    "\n",
    "# mean, scale\n",
    "m, s = 18, 5\n",
    "ray_pdf = lambda s, x: 100  * (x / s ** 2) * ( np.exp( (-x **2) / (2 * s **2) )  )\n",
    "plt.plot(x, ray_pdf(m, x), 'g-', label='Rayleigh')\n",
    "\n",
    "# Try a third order polynomial with roots close to the edges of my population data.\n",
    "# Here I am creating a relationship that np.polyfit might be able to find later on.\n",
    "# Roots at -5, +90 and scale appropriately for max hr/day approx. 4.\n",
    "p3 = 0.00003 * ((x + 5) * (x - 90) * (x - 90))\n",
    "\n",
    "# Tried lower order polynomials but they don't work well for this model.\n",
    "#p2 = 0.00003 * (- 150 * (x ** 2) + 4800 * x + 64000)\n",
    "#p1 = 0.00003 * (4800 * x + 64000)\n",
    "\n",
    "plt.plot(x, p3, 'r-', label='poly3')\n",
    "#plt.plot(x, p2, 'b-', label='p2')\n",
    "#plt.plot(x, p1, 'c-', label='p1')\n",
    "\n",
    "plt.legend()\n",
    "plt.xlabel(\"Age (years)\")\n",
    "plt.ylabel(\"Outside time/day (hours)\")\n",
    "plt.grid()\n"
   ]
  },
  {
   "cell_type": "markdown",
   "metadata": {},
   "source": [
    "I think this does a good job of modeling outside time up until about age 90. This weakness in the model is offset a little by the fact that ages over 90 only form a small part of the population as measured in the 2016 census, so I don't expect it to affect the final data set too much."
   ]
  },
  {
   "cell_type": "markdown",
   "metadata": {},
   "source": [
    "***\n",
    "# 5. Generate the data set"
   ]
  },
  {
   "cell_type": "markdown",
   "metadata": {},
   "source": [
    "## Genes (none, some, strong)"
   ]
  },
  {
   "cell_type": "code",
   "execution_count": 18,
   "metadata": {},
   "outputs": [],
   "source": [
    "genetic_predisp = ['none', 'some', 'strong']\n",
    "genes = np.random.choice(genetic_predisp, n, p=[0.6, 0.30, 0.10])\n",
    "df = pd.DataFrame(genes, columns = ['Genes'])"
   ]
  },
  {
   "cell_type": "markdown",
   "metadata": {},
   "source": [
    "## Years (Integer 0 - 100)"
   ]
  },
  {
   "cell_type": "code",
   "execution_count": 19,
   "metadata": {},
   "outputs": [],
   "source": [
    "young = np.random.triangular(0, 7, 20, n)\n",
    "old = np.random.triangular(0, 37, 100, 5 * n)\n",
    "a = np.concatenate((young, old), axis=None)\n",
    "age = np.random.choice(a, n, replace=False)\n",
    "years = age.astype(int)\n",
    "df['Age'] = years"
   ]
  },
  {
   "cell_type": "markdown",
   "metadata": {},
   "source": [
    "## Hours outside per day (Positive number, two decimal places)"
   ]
  },
  {
   "cell_type": "code",
   "execution_count": 20,
   "metadata": {},
   "outputs": [
    {
     "name": "stdout",
     "output_type": "stream",
     "text": [
      "<class 'pandas.core.series.Series'>\n"
     ]
    }
   ],
   "source": [
    "# Cycle through Age column, calculating hrs/day for each Age based on 3rd order polynomial.\n",
    "# Add some normally-distributed noise.\n",
    "h = 0.00003 * ((df['Age'] + 5) * (df['Age'] - 90) * (df['Age'] - 90)) + np.random.normal(0, 0.5, n)\n",
    "print(type(h))\n",
    "#print(h)\n",
    "\n",
    "# Set any negaitve hours to zero\n",
    "hr = [None]*n\n",
    "for i, h in enumerate(h):\n",
    "    if h < 0:\n",
    "        hr[i] = 0\n",
    "    else:\n",
    "        hr[i] = h\n",
    "\n",
    "# Round to two decimal places.\n",
    "df['Hours'] = round(pd.Series(hr),2)\n",
    "#df['Hours']"
   ]
  },
  {
   "cell_type": "markdown",
   "metadata": {},
   "source": [
    "## Refraction (Negative number, two decimal places)"
   ]
  },
  {
   "cell_type": "markdown",
   "metadata": {},
   "source": [
    "We need to adjust the mean and standard deviations of the distribution we will sample from for each genetic group so that the final result makes sense. I will reduce these parameters a little from what we already looked at, because the Hours variable in the data set is going to increase them for those subjects who spend less than the maximum number of hours outside. Recall from **4.2** that we had (mean, standard deviation) = (0, 0.5), (-3.2, 2.4), (-5, 2.4) for Genes = none, some, and strong, respectively. I played around with the mean values for some and strong in order to arrive at a realistic final histogram."
   ]
  },
  {
   "cell_type": "code",
   "execution_count": 21,
   "metadata": {},
   "outputs": [],
   "source": [
    "# Cycle through Genes column generating a single refraction from a distribution which depends on Genes.\n",
    "# Reduce mean for Genes = some, strong by 1.5 D as values will get boosted by environmental factors afterwards.\n",
    "\n",
    "m0, s0 =  0, 0.5 # if Genes = none\n",
    "m1, s1 = -1.7, 2.4 # if Genes = some\n",
    "m2, s2 = -3.5, 2.4 # if Genes = strong: Genes increase liliehood of being myopic by how much? Saw et al 0.39, 0.74D avg\n",
    "\n",
    "# Make empty list to hold refractive error.\n",
    "err = [None]*n\n",
    "\n",
    "# Fill the list depending on value of genes.\n",
    "# Each number from normal dist is in a list - don't want that so use [0] to access the number, not the list.\n",
    "# https://stackoverflow.com/questions/30311172/convert-list-or-numpy-array-of-single-element-to-float-in-python\n",
    "\n",
    "for i, g in enumerate(genes):\n",
    "    if g == 'some':\n",
    "        q = np.random.normal(m1, s1, 1)\n",
    "        err[i] = q[0]\n",
    "        #err[i] = round(q[0], 2)\n",
    "        #print(\"i {}: {}, {}\".format(i, g, q))\n",
    "    elif g == 'strong':\n",
    "        q = np.random.normal(m2, s2, 1)\n",
    "        err[i] = q[0]\n",
    "        #err[i] = round(q[0],2)\n",
    "        #print(\"i {}: {}, {}\".format(i, g, q))\n",
    "    else:\n",
    "        #q = np.random.uniform(m0, s0, 1) + np.random.normal(m0, 0.1, 1)\n",
    "        q = np.random.normal(m0, s0, 1)\n",
    "        err[i] = q[0]\n",
    "        #err[i] = round(q[0],2)\n",
    "        #print(\"i {}: {}, {}\".format(i, g, q))       \n",
    "#print(err)"
   ]
  },
  {
   "cell_type": "markdown",
   "metadata": {},
   "source": [
    "We will set any values of refraction > 0 to be = 0 because myopia is a negative refractive error."
   ]
  },
  {
   "cell_type": "code",
   "execution_count": 22,
   "metadata": {},
   "outputs": [],
   "source": [
    "# Want to set = 0 any positive values in err list.\n",
    "# https://stackoverflow.com/questions/9470056/learning-python-changing-value-in-list-based-on-condition\n",
    "\n",
    "err = list(map(lambda x: 0 if x > 0 else x, err))\n",
    "#print(err)"
   ]
  },
  {
   "cell_type": "markdown",
   "metadata": {},
   "source": [
    "Finally, increase refraction by an amount which depends (inversely) on hours outside per day."
   ]
  },
  {
   "cell_type": "code",
   "execution_count": 23,
   "metadata": {},
   "outputs": [
    {
     "name": "stdout",
     "output_type": "stream",
     "text": [
      "Max hrs outside/day is  5.31\n"
     ]
    }
   ],
   "source": [
    "# Adjust each resulting ref error by value in Hours (which depends on Age)?\n",
    "# Want it to increase with decreasing hours outside.\n",
    "# If the relationship is linear, \n",
    "# Expect slope to be small as relationship is weak.\n",
    "\n",
    "# Normalize to maximum of hrs outside/day first.\n",
    "maxhr = round(max(hr),2)\n",
    "print(\"Max hrs outside/day is \", maxhr)\n",
    "\n",
    "#https://stackoverflow.com/questions/10271484/how-to-perform-element-wise-multiplication-of-two-lists/10271504#10271504\n",
    "#[a*b for a,b in zip(lista,listb)]\n",
    "\n",
    "# if b = maxhr, a unchanged, else a made more negative.\n",
    "err2 = [a * (2 - (b / maxhr)) for a,b in zip(err, hr)] # Beware of divide by zero if do / rather than *.\n",
    "#print(type(err2))\n",
    "\n",
    "# Round to two decimal places before inserting into data frame.\n",
    "df['Refraction'] = round(pd.Series(err2),2)\n",
    "\n",
    "# Checking\n",
    "#plt.plot(df['Hours'], df['Refraction'], 'g.')\n",
    "#df[['Genes','Hours','Refraction']]"
   ]
  },
  {
   "cell_type": "code",
   "execution_count": 24,
   "metadata": {},
   "outputs": [
    {
     "data": {
      "image/png": "[encoded data removed]",
      "text/plain": [
       "<Figure size 432x288 with 1 Axes>"
      ]
     },
     "metadata": {
      "needs_background": "light"
     },
     "output_type": "display_data"
    }
   ],
   "source": [
    "# Double check that populations Genes = (strong, some) are different.\n",
    "# plt.hist(df['Refraction'], bins=20, density=True, alpha=0.5, label='All subjects')\n",
    "plt.hist(df[df['Genes']=='some']['Refraction'], bins=20, density=True, alpha=0.5, label='some')\n",
    "plt.hist(df[df['Genes']=='strong']['Refraction'], bins=10, density=True, alpha=0.5, label='strong')\n",
    "\n",
    "plt.xlabel(\"Refractive error (D)\")\n",
    "plt.ylabel(\"Frequency\")\n",
    "plt.legend()\n",
    "plt.grid()"
   ]
  },
  {
   "cell_type": "markdown",
   "metadata": {},
   "source": [
    "## Output the data set"
   ]
  },
  {
   "cell_type": "code",
   "execution_count": 25,
   "metadata": {
    "scrolled": true
   },
   "outputs": [
    {
     "data": {
      "text/html": [
       "<div>\n",
       "<style scoped>\n",
       "    .dataframe tbody tr th:only-of-type {\n",
       "        vertical-align: middle;\n",
       "    }\n",
       "\n",
       "    .dataframe tbody tr th {\n",
       "        vertical-align: top;\n",
       "    }\n",
       "\n",
       "    .dataframe thead th {\n",
       "        text-align: right;\n",
       "    }\n",
       "</style>\n",
       "<table border=\"1\" class=\"dataframe\">\n",
       "  <thead>\n",
       "    <tr style=\"text-align: right;\">\n",
       "      <th></th>\n",
       "      <th>Genes</th>\n",
       "      <th>Age</th>\n",
       "      <th>Hours</th>\n",
       "      <th>Refraction</th>\n",
       "    </tr>\n",
       "  </thead>\n",
       "  <tbody>\n",
       "    <tr>\n",
       "      <th>0</th>\n",
       "      <td>none</td>\n",
       "      <td>38</td>\n",
       "      <td>4.05</td>\n",
       "      <td>-0.54</td>\n",
       "    </tr>\n",
       "    <tr>\n",
       "      <th>1</th>\n",
       "      <td>none</td>\n",
       "      <td>38</td>\n",
       "      <td>3.90</td>\n",
       "      <td>0.00</td>\n",
       "    </tr>\n",
       "    <tr>\n",
       "      <th>2</th>\n",
       "      <td>some</td>\n",
       "      <td>21</td>\n",
       "      <td>4.16</td>\n",
       "      <td>-2.68</td>\n",
       "    </tr>\n",
       "    <tr>\n",
       "      <th>3</th>\n",
       "      <td>strong</td>\n",
       "      <td>24</td>\n",
       "      <td>3.24</td>\n",
       "      <td>-4.49</td>\n",
       "    </tr>\n",
       "    <tr>\n",
       "      <th>4</th>\n",
       "      <td>some</td>\n",
       "      <td>65</td>\n",
       "      <td>2.31</td>\n",
       "      <td>-2.65</td>\n",
       "    </tr>\n",
       "    <tr>\n",
       "      <th>5</th>\n",
       "      <td>strong</td>\n",
       "      <td>22</td>\n",
       "      <td>3.84</td>\n",
       "      <td>-4.86</td>\n",
       "    </tr>\n",
       "    <tr>\n",
       "      <th>6</th>\n",
       "      <td>none</td>\n",
       "      <td>41</td>\n",
       "      <td>3.63</td>\n",
       "      <td>0.00</td>\n",
       "    </tr>\n",
       "    <tr>\n",
       "      <th>7</th>\n",
       "      <td>none</td>\n",
       "      <td>10</td>\n",
       "      <td>2.77</td>\n",
       "      <td>0.00</td>\n",
       "    </tr>\n",
       "    <tr>\n",
       "      <th>8</th>\n",
       "      <td>none</td>\n",
       "      <td>17</td>\n",
       "      <td>3.57</td>\n",
       "      <td>0.00</td>\n",
       "    </tr>\n",
       "    <tr>\n",
       "      <th>9</th>\n",
       "      <td>some</td>\n",
       "      <td>51</td>\n",
       "      <td>3.40</td>\n",
       "      <td>-6.34</td>\n",
       "    </tr>\n",
       "    <tr>\n",
       "      <th>10</th>\n",
       "      <td>some</td>\n",
       "      <td>87</td>\n",
       "      <td>0.34</td>\n",
       "      <td>0.00</td>\n",
       "    </tr>\n",
       "    <tr>\n",
       "      <th>11</th>\n",
       "      <td>none</td>\n",
       "      <td>85</td>\n",
       "      <td>0.70</td>\n",
       "      <td>0.00</td>\n",
       "    </tr>\n",
       "    <tr>\n",
       "      <th>12</th>\n",
       "      <td>strong</td>\n",
       "      <td>15</td>\n",
       "      <td>3.21</td>\n",
       "      <td>-9.44</td>\n",
       "    </tr>\n",
       "    <tr>\n",
       "      <th>13</th>\n",
       "      <td>none</td>\n",
       "      <td>64</td>\n",
       "      <td>1.39</td>\n",
       "      <td>0.00</td>\n",
       "    </tr>\n",
       "    <tr>\n",
       "      <th>14</th>\n",
       "      <td>some</td>\n",
       "      <td>32</td>\n",
       "      <td>3.76</td>\n",
       "      <td>-7.84</td>\n",
       "    </tr>\n",
       "    <tr>\n",
       "      <th>15</th>\n",
       "      <td>strong</td>\n",
       "      <td>65</td>\n",
       "      <td>1.43</td>\n",
       "      <td>-1.02</td>\n",
       "    </tr>\n",
       "    <tr>\n",
       "      <th>16</th>\n",
       "      <td>none</td>\n",
       "      <td>4</td>\n",
       "      <td>2.43</td>\n",
       "      <td>-0.59</td>\n",
       "    </tr>\n",
       "    <tr>\n",
       "      <th>17</th>\n",
       "      <td>none</td>\n",
       "      <td>46</td>\n",
       "      <td>2.86</td>\n",
       "      <td>0.00</td>\n",
       "    </tr>\n",
       "    <tr>\n",
       "      <th>18</th>\n",
       "      <td>none</td>\n",
       "      <td>38</td>\n",
       "      <td>3.20</td>\n",
       "      <td>-0.17</td>\n",
       "    </tr>\n",
       "    <tr>\n",
       "      <th>19</th>\n",
       "      <td>some</td>\n",
       "      <td>71</td>\n",
       "      <td>0.38</td>\n",
       "      <td>-6.37</td>\n",
       "    </tr>\n",
       "    <tr>\n",
       "      <th>20</th>\n",
       "      <td>none</td>\n",
       "      <td>64</td>\n",
       "      <td>0.49</td>\n",
       "      <td>-0.37</td>\n",
       "    </tr>\n",
       "    <tr>\n",
       "      <th>21</th>\n",
       "      <td>none</td>\n",
       "      <td>72</td>\n",
       "      <td>1.22</td>\n",
       "      <td>-0.29</td>\n",
       "    </tr>\n",
       "    <tr>\n",
       "      <th>22</th>\n",
       "      <td>some</td>\n",
       "      <td>13</td>\n",
       "      <td>2.68</td>\n",
       "      <td>-6.78</td>\n",
       "    </tr>\n",
       "    <tr>\n",
       "      <th>23</th>\n",
       "      <td>strong</td>\n",
       "      <td>68</td>\n",
       "      <td>2.05</td>\n",
       "      <td>-9.34</td>\n",
       "    </tr>\n",
       "    <tr>\n",
       "      <th>24</th>\n",
       "      <td>some</td>\n",
       "      <td>36</td>\n",
       "      <td>3.99</td>\n",
       "      <td>0.00</td>\n",
       "    </tr>\n",
       "    <tr>\n",
       "      <th>25</th>\n",
       "      <td>some</td>\n",
       "      <td>73</td>\n",
       "      <td>1.56</td>\n",
       "      <td>-4.09</td>\n",
       "    </tr>\n",
       "    <tr>\n",
       "      <th>26</th>\n",
       "      <td>none</td>\n",
       "      <td>42</td>\n",
       "      <td>3.14</td>\n",
       "      <td>0.00</td>\n",
       "    </tr>\n",
       "    <tr>\n",
       "      <th>27</th>\n",
       "      <td>some</td>\n",
       "      <td>64</td>\n",
       "      <td>1.28</td>\n",
       "      <td>-7.88</td>\n",
       "    </tr>\n",
       "    <tr>\n",
       "      <th>28</th>\n",
       "      <td>none</td>\n",
       "      <td>75</td>\n",
       "      <td>0.38</td>\n",
       "      <td>0.00</td>\n",
       "    </tr>\n",
       "    <tr>\n",
       "      <th>29</th>\n",
       "      <td>none</td>\n",
       "      <td>8</td>\n",
       "      <td>2.07</td>\n",
       "      <td>0.00</td>\n",
       "    </tr>\n",
       "    <tr>\n",
       "      <th>...</th>\n",
       "      <td>...</td>\n",
       "      <td>...</td>\n",
       "      <td>...</td>\n",
       "      <td>...</td>\n",
       "    </tr>\n",
       "    <tr>\n",
       "      <th>370</th>\n",
       "      <td>none</td>\n",
       "      <td>31</td>\n",
       "      <td>3.90</td>\n",
       "      <td>-1.28</td>\n",
       "    </tr>\n",
       "    <tr>\n",
       "      <th>371</th>\n",
       "      <td>none</td>\n",
       "      <td>36</td>\n",
       "      <td>3.32</td>\n",
       "      <td>0.00</td>\n",
       "    </tr>\n",
       "    <tr>\n",
       "      <th>372</th>\n",
       "      <td>none</td>\n",
       "      <td>14</td>\n",
       "      <td>3.37</td>\n",
       "      <td>0.00</td>\n",
       "    </tr>\n",
       "    <tr>\n",
       "      <th>373</th>\n",
       "      <td>some</td>\n",
       "      <td>65</td>\n",
       "      <td>1.28</td>\n",
       "      <td>0.00</td>\n",
       "    </tr>\n",
       "    <tr>\n",
       "      <th>374</th>\n",
       "      <td>none</td>\n",
       "      <td>14</td>\n",
       "      <td>2.56</td>\n",
       "      <td>0.00</td>\n",
       "    </tr>\n",
       "    <tr>\n",
       "      <th>375</th>\n",
       "      <td>some</td>\n",
       "      <td>32</td>\n",
       "      <td>3.93</td>\n",
       "      <td>-3.75</td>\n",
       "    </tr>\n",
       "    <tr>\n",
       "      <th>376</th>\n",
       "      <td>some</td>\n",
       "      <td>47</td>\n",
       "      <td>2.63</td>\n",
       "      <td>0.00</td>\n",
       "    </tr>\n",
       "    <tr>\n",
       "      <th>377</th>\n",
       "      <td>strong</td>\n",
       "      <td>90</td>\n",
       "      <td>0.00</td>\n",
       "      <td>-6.57</td>\n",
       "    </tr>\n",
       "    <tr>\n",
       "      <th>378</th>\n",
       "      <td>none</td>\n",
       "      <td>29</td>\n",
       "      <td>3.72</td>\n",
       "      <td>-0.63</td>\n",
       "    </tr>\n",
       "    <tr>\n",
       "      <th>379</th>\n",
       "      <td>none</td>\n",
       "      <td>5</td>\n",
       "      <td>1.73</td>\n",
       "      <td>-0.44</td>\n",
       "    </tr>\n",
       "    <tr>\n",
       "      <th>380</th>\n",
       "      <td>none</td>\n",
       "      <td>51</td>\n",
       "      <td>3.02</td>\n",
       "      <td>0.00</td>\n",
       "    </tr>\n",
       "    <tr>\n",
       "      <th>381</th>\n",
       "      <td>none</td>\n",
       "      <td>11</td>\n",
       "      <td>2.51</td>\n",
       "      <td>0.00</td>\n",
       "    </tr>\n",
       "    <tr>\n",
       "      <th>382</th>\n",
       "      <td>some</td>\n",
       "      <td>4</td>\n",
       "      <td>1.58</td>\n",
       "      <td>0.00</td>\n",
       "    </tr>\n",
       "    <tr>\n",
       "      <th>383</th>\n",
       "      <td>none</td>\n",
       "      <td>26</td>\n",
       "      <td>3.77</td>\n",
       "      <td>0.00</td>\n",
       "    </tr>\n",
       "    <tr>\n",
       "      <th>384</th>\n",
       "      <td>none</td>\n",
       "      <td>62</td>\n",
       "      <td>1.26</td>\n",
       "      <td>0.00</td>\n",
       "    </tr>\n",
       "    <tr>\n",
       "      <th>385</th>\n",
       "      <td>none</td>\n",
       "      <td>35</td>\n",
       "      <td>3.11</td>\n",
       "      <td>0.00</td>\n",
       "    </tr>\n",
       "    <tr>\n",
       "      <th>386</th>\n",
       "      <td>none</td>\n",
       "      <td>30</td>\n",
       "      <td>3.26</td>\n",
       "      <td>0.00</td>\n",
       "    </tr>\n",
       "    <tr>\n",
       "      <th>387</th>\n",
       "      <td>strong</td>\n",
       "      <td>31</td>\n",
       "      <td>4.14</td>\n",
       "      <td>-1.42</td>\n",
       "    </tr>\n",
       "    <tr>\n",
       "      <th>388</th>\n",
       "      <td>none</td>\n",
       "      <td>78</td>\n",
       "      <td>0.20</td>\n",
       "      <td>-0.24</td>\n",
       "    </tr>\n",
       "    <tr>\n",
       "      <th>389</th>\n",
       "      <td>none</td>\n",
       "      <td>63</td>\n",
       "      <td>0.95</td>\n",
       "      <td>-0.41</td>\n",
       "    </tr>\n",
       "    <tr>\n",
       "      <th>390</th>\n",
       "      <td>none</td>\n",
       "      <td>32</td>\n",
       "      <td>4.50</td>\n",
       "      <td>0.00</td>\n",
       "    </tr>\n",
       "    <tr>\n",
       "      <th>391</th>\n",
       "      <td>some</td>\n",
       "      <td>68</td>\n",
       "      <td>1.42</td>\n",
       "      <td>-7.01</td>\n",
       "    </tr>\n",
       "    <tr>\n",
       "      <th>392</th>\n",
       "      <td>strong</td>\n",
       "      <td>66</td>\n",
       "      <td>0.42</td>\n",
       "      <td>-9.22</td>\n",
       "    </tr>\n",
       "    <tr>\n",
       "      <th>393</th>\n",
       "      <td>none</td>\n",
       "      <td>29</td>\n",
       "      <td>4.74</td>\n",
       "      <td>-0.64</td>\n",
       "    </tr>\n",
       "    <tr>\n",
       "      <th>394</th>\n",
       "      <td>some</td>\n",
       "      <td>8</td>\n",
       "      <td>2.51</td>\n",
       "      <td>-4.89</td>\n",
       "    </tr>\n",
       "    <tr>\n",
       "      <th>395</th>\n",
       "      <td>none</td>\n",
       "      <td>68</td>\n",
       "      <td>0.46</td>\n",
       "      <td>0.00</td>\n",
       "    </tr>\n",
       "    <tr>\n",
       "      <th>396</th>\n",
       "      <td>some</td>\n",
       "      <td>25</td>\n",
       "      <td>4.32</td>\n",
       "      <td>0.00</td>\n",
       "    </tr>\n",
       "    <tr>\n",
       "      <th>397</th>\n",
       "      <td>none</td>\n",
       "      <td>38</td>\n",
       "      <td>3.31</td>\n",
       "      <td>-0.50</td>\n",
       "    </tr>\n",
       "    <tr>\n",
       "      <th>398</th>\n",
       "      <td>none</td>\n",
       "      <td>47</td>\n",
       "      <td>3.34</td>\n",
       "      <td>0.00</td>\n",
       "    </tr>\n",
       "    <tr>\n",
       "      <th>399</th>\n",
       "      <td>none</td>\n",
       "      <td>25</td>\n",
       "      <td>3.80</td>\n",
       "      <td>-0.02</td>\n",
       "    </tr>\n",
       "  </tbody>\n",
       "</table>\n",
       "<p>400 rows × 4 columns</p>\n",
       "</div>"
      ],
      "text/plain": [
       "      Genes  Age  Hours  Refraction\n",
       "0      none   38   4.05       -0.54\n",
       "1      none   38   3.90        0.00\n",
       "2      some   21   4.16       -2.68\n",
       "3    strong   24   3.24       -4.49\n",
       "4      some   65   2.31       -2.65\n",
       "5    strong   22   3.84       -4.86\n",
       "6      none   41   3.63        0.00\n",
       "7      none   10   2.77        0.00\n",
       "8      none   17   3.57        0.00\n",
       "9      some   51   3.40       -6.34\n",
       "10     some   87   0.34        0.00\n",
       "11     none   85   0.70        0.00\n",
       "12   strong   15   3.21       -9.44\n",
       "13     none   64   1.39        0.00\n",
       "14     some   32   3.76       -7.84\n",
       "15   strong   65   1.43       -1.02\n",
       "16     none    4   2.43       -0.59\n",
       "17     none   46   2.86        0.00\n",
       "18     none   38   3.20       -0.17\n",
       "19     some   71   0.38       -6.37\n",
       "20     none   64   0.49       -0.37\n",
       "21     none   72   1.22       -0.29\n",
       "22     some   13   2.68       -6.78\n",
       "23   strong   68   2.05       -9.34\n",
       "24     some   36   3.99        0.00\n",
       "25     some   73   1.56       -4.09\n",
       "26     none   42   3.14        0.00\n",
       "27     some   64   1.28       -7.88\n",
       "28     none   75   0.38        0.00\n",
       "29     none    8   2.07        0.00\n",
       "..      ...  ...    ...         ...\n",
       "370    none   31   3.90       -1.28\n",
       "371    none   36   3.32        0.00\n",
       "372    none   14   3.37        0.00\n",
       "373    some   65   1.28        0.00\n",
       "374    none   14   2.56        0.00\n",
       "375    some   32   3.93       -3.75\n",
       "376    some   47   2.63        0.00\n",
       "377  strong   90   0.00       -6.57\n",
       "378    none   29   3.72       -0.63\n",
       "379    none    5   1.73       -0.44\n",
       "380    none   51   3.02        0.00\n",
       "381    none   11   2.51        0.00\n",
       "382    some    4   1.58        0.00\n",
       "383    none   26   3.77        0.00\n",
       "384    none   62   1.26        0.00\n",
       "385    none   35   3.11        0.00\n",
       "386    none   30   3.26        0.00\n",
       "387  strong   31   4.14       -1.42\n",
       "388    none   78   0.20       -0.24\n",
       "389    none   63   0.95       -0.41\n",
       "390    none   32   4.50        0.00\n",
       "391    some   68   1.42       -7.01\n",
       "392  strong   66   0.42       -9.22\n",
       "393    none   29   4.74       -0.64\n",
       "394    some    8   2.51       -4.89\n",
       "395    none   68   0.46        0.00\n",
       "396    some   25   4.32        0.00\n",
       "397    none   38   3.31       -0.50\n",
       "398    none   47   3.34        0.00\n",
       "399    none   25   3.80       -0.02\n",
       "\n",
       "[400 rows x 4 columns]"
      ]
     },
     "execution_count": 25,
     "metadata": {},
     "output_type": "execute_result"
    }
   ],
   "source": [
    "df"
   ]
  },
  {
   "cell_type": "markdown",
   "metadata": {},
   "source": [
    "Summarize variables and data types:\n",
    "- Genes \n",
    "- Age\n",
    "- Environmental factors\n",
    "- Refraction\n"
   ]
  },
  {
   "cell_type": "markdown",
   "metadata": {},
   "source": [
    "***\n",
    "# 6. Check the data set"
   ]
  },
  {
   "cell_type": "markdown",
   "metadata": {},
   "source": [
    "As a sanity check, I will now ask, what would I think of this data set if I were asked to analyze it?"
   ]
  },
  {
   "cell_type": "markdown",
   "metadata": {},
   "source": [
    "## Pairplot"
   ]
  },
  {
   "cell_type": "markdown",
   "metadata": {},
   "source": [
    "A Seaborn pairplot will .."
   ]
  },
  {
   "cell_type": "code",
   "execution_count": 26,
   "metadata": {},
   "outputs": [
    {
     "data": {
      "text/plain": [
       "<seaborn.axisgrid.PairGrid at 0x2d133de9908>"
      ]
     },
     "execution_count": 26,
     "metadata": {},
     "output_type": "execute_result"
    },
    {
     "data": {
      "image/png": "[encoded data removed]",
      "text/plain": [
       "<Figure size 635.275x540 with 12 Axes>"
      ]
     },
     "metadata": {
      "needs_background": "light"
     },
     "output_type": "display_data"
    }
   ],
   "source": [
    "#sns.pairplot(df, hue='Genes', hue_order=['none', 'some', 'strong'])\n",
    "\n",
    "# Look at a subset of genetic predispositions.\n",
    "sns.pairplot(df, hue='Genes', hue_order=['some', 'strong'])"
   ]
  },
  {
   "cell_type": "markdown",
   "metadata": {},
   "source": [
    "## Pandas describe"
   ]
  },
  {
   "cell_type": "code",
   "execution_count": 27,
   "metadata": {},
   "outputs": [
    {
     "data": {
      "text/html": [
       "<div>\n",
       "<style scoped>\n",
       "    .dataframe tbody tr th:only-of-type {\n",
       "        vertical-align: middle;\n",
       "    }\n",
       "\n",
       "    .dataframe tbody tr th {\n",
       "        vertical-align: top;\n",
       "    }\n",
       "\n",
       "    .dataframe thead th {\n",
       "        text-align: right;\n",
       "    }\n",
       "</style>\n",
       "<table border=\"1\" class=\"dataframe\">\n",
       "  <thead>\n",
       "    <tr style=\"text-align: right;\">\n",
       "      <th></th>\n",
       "      <th>Genes</th>\n",
       "      <th>Age</th>\n",
       "      <th>Hours</th>\n",
       "      <th>Refraction</th>\n",
       "    </tr>\n",
       "  </thead>\n",
       "  <tbody>\n",
       "    <tr>\n",
       "      <th>count</th>\n",
       "      <td>400</td>\n",
       "      <td>400.000000</td>\n",
       "      <td>400.00000</td>\n",
       "      <td>400.000000</td>\n",
       "    </tr>\n",
       "    <tr>\n",
       "      <th>unique</th>\n",
       "      <td>3</td>\n",
       "      <td>NaN</td>\n",
       "      <td>NaN</td>\n",
       "      <td>NaN</td>\n",
       "    </tr>\n",
       "    <tr>\n",
       "      <th>top</th>\n",
       "      <td>none</td>\n",
       "      <td>NaN</td>\n",
       "      <td>NaN</td>\n",
       "      <td>NaN</td>\n",
       "    </tr>\n",
       "    <tr>\n",
       "      <th>freq</th>\n",
       "      <td>252</td>\n",
       "      <td>NaN</td>\n",
       "      <td>NaN</td>\n",
       "      <td>NaN</td>\n",
       "    </tr>\n",
       "    <tr>\n",
       "      <th>mean</th>\n",
       "      <td>NaN</td>\n",
       "      <td>38.812500</td>\n",
       "      <td>2.59635</td>\n",
       "      <td>-1.553900</td>\n",
       "    </tr>\n",
       "    <tr>\n",
       "      <th>std</th>\n",
       "      <td>NaN</td>\n",
       "      <td>23.469328</td>\n",
       "      <td>1.18079</td>\n",
       "      <td>2.399239</td>\n",
       "    </tr>\n",
       "    <tr>\n",
       "      <th>min</th>\n",
       "      <td>NaN</td>\n",
       "      <td>0.000000</td>\n",
       "      <td>0.00000</td>\n",
       "      <td>-10.950000</td>\n",
       "    </tr>\n",
       "    <tr>\n",
       "      <th>25%</th>\n",
       "      <td>NaN</td>\n",
       "      <td>18.000000</td>\n",
       "      <td>1.90250</td>\n",
       "      <td>-1.882500</td>\n",
       "    </tr>\n",
       "    <tr>\n",
       "      <th>50%</th>\n",
       "      <td>NaN</td>\n",
       "      <td>37.000000</td>\n",
       "      <td>2.81000</td>\n",
       "      <td>-0.405000</td>\n",
       "    </tr>\n",
       "    <tr>\n",
       "      <th>75%</th>\n",
       "      <td>NaN</td>\n",
       "      <td>56.250000</td>\n",
       "      <td>3.49250</td>\n",
       "      <td>0.000000</td>\n",
       "    </tr>\n",
       "    <tr>\n",
       "      <th>max</th>\n",
       "      <td>NaN</td>\n",
       "      <td>97.000000</td>\n",
       "      <td>5.31000</td>\n",
       "      <td>0.000000</td>\n",
       "    </tr>\n",
       "  </tbody>\n",
       "</table>\n",
       "</div>"
      ],
      "text/plain": [
       "       Genes         Age      Hours  Refraction\n",
       "count    400  400.000000  400.00000  400.000000\n",
       "unique     3         NaN        NaN         NaN\n",
       "top     none         NaN        NaN         NaN\n",
       "freq     252         NaN        NaN         NaN\n",
       "mean     NaN   38.812500    2.59635   -1.553900\n",
       "std      NaN   23.469328    1.18079    2.399239\n",
       "min      NaN    0.000000    0.00000  -10.950000\n",
       "25%      NaN   18.000000    1.90250   -1.882500\n",
       "50%      NaN   37.000000    2.81000   -0.405000\n",
       "75%      NaN   56.250000    3.49250    0.000000\n",
       "max      NaN   97.000000    5.31000    0.000000"
      ]
     },
     "execution_count": 27,
     "metadata": {},
     "output_type": "execute_result"
    }
   ],
   "source": [
    "df.describe(include=\"all\")"
   ]
  },
  {
   "cell_type": "code",
   "execution_count": 28,
   "metadata": {},
   "outputs": [
    {
     "data": {
      "text/html": [
       "<div>\n",
       "<style scoped>\n",
       "    .dataframe tbody tr th:only-of-type {\n",
       "        vertical-align: middle;\n",
       "    }\n",
       "\n",
       "    .dataframe tbody tr th {\n",
       "        vertical-align: top;\n",
       "    }\n",
       "\n",
       "    .dataframe thead tr th {\n",
       "        text-align: left;\n",
       "    }\n",
       "\n",
       "    .dataframe thead tr:last-of-type th {\n",
       "        text-align: right;\n",
       "    }\n",
       "</style>\n",
       "<table border=\"1\" class=\"dataframe\">\n",
       "  <thead>\n",
       "    <tr>\n",
       "      <th></th>\n",
       "      <th colspan=\"2\" halign=\"left\">Age</th>\n",
       "      <th colspan=\"2\" halign=\"left\">Hours</th>\n",
       "      <th colspan=\"2\" halign=\"left\">Refraction</th>\n",
       "    </tr>\n",
       "    <tr>\n",
       "      <th></th>\n",
       "      <th>count</th>\n",
       "      <th>mean</th>\n",
       "      <th>count</th>\n",
       "      <th>mean</th>\n",
       "      <th>count</th>\n",
       "      <th>mean</th>\n",
       "    </tr>\n",
       "    <tr>\n",
       "      <th>Genes</th>\n",
       "      <th></th>\n",
       "      <th></th>\n",
       "      <th></th>\n",
       "      <th></th>\n",
       "      <th></th>\n",
       "      <th></th>\n",
       "    </tr>\n",
       "  </thead>\n",
       "  <tbody>\n",
       "    <tr>\n",
       "      <th>none</th>\n",
       "      <td>252</td>\n",
       "      <td>39.797619</td>\n",
       "      <td>252</td>\n",
       "      <td>2.590794</td>\n",
       "      <td>252</td>\n",
       "      <td>-0.339524</td>\n",
       "    </tr>\n",
       "    <tr>\n",
       "      <th>some</th>\n",
       "      <td>110</td>\n",
       "      <td>35.836364</td>\n",
       "      <td>110</td>\n",
       "      <td>2.612364</td>\n",
       "      <td>110</td>\n",
       "      <td>-2.969364</td>\n",
       "    </tr>\n",
       "    <tr>\n",
       "      <th>strong</th>\n",
       "      <td>38</td>\n",
       "      <td>40.894737</td>\n",
       "      <td>38</td>\n",
       "      <td>2.586842</td>\n",
       "      <td>38</td>\n",
       "      <td>-5.509737</td>\n",
       "    </tr>\n",
       "  </tbody>\n",
       "</table>\n",
       "</div>"
      ],
      "text/plain": [
       "         Age            Hours           Refraction          \n",
       "       count       mean count      mean      count      mean\n",
       "Genes                                                       \n",
       "none     252  39.797619   252  2.590794        252 -0.339524\n",
       "some     110  35.836364   110  2.612364        110 -2.969364\n",
       "strong    38  40.894737    38  2.586842         38 -5.509737"
      ]
     },
     "execution_count": 28,
     "metadata": {},
     "output_type": "execute_result"
    }
   ],
   "source": [
    "df.groupby(['Genes']).agg(['count','mean'])"
   ]
  },
  {
   "cell_type": "code",
   "execution_count": 29,
   "metadata": {},
   "outputs": [
    {
     "data": {
      "text/plain": [
       "<seaborn.axisgrid.FacetGrid at 0x2d1358f8390>"
      ]
     },
     "execution_count": 29,
     "metadata": {},
     "output_type": "execute_result"
    },
    {
     "data": {
      "image/png": "[encoded data removed]",
      "text/plain": [
       "<Figure size 455.275x360 with 1 Axes>"
      ]
     },
     "metadata": {
      "needs_background": "light"
     },
     "output_type": "display_data"
    }
   ],
   "source": [
    "sns.lmplot(x=\"Hours\", y=\"Refraction\", hue=\"Genes\", data=df)"
   ]
  },
  {
   "cell_type": "code",
   "execution_count": 31,
   "metadata": {},
   "outputs": [
    {
     "name": "stdout",
     "output_type": "stream",
     "text": [
      "3rd order poly fit:  [ 3.04330139e-05 -5.25756814e-03  2.15302370e-01  1.20228196e+00]\n",
      "[[ 1.         -0.61633281]\n",
      " [-0.61633281  1.        ]]\n",
      "R squared for this fit is: 0.38\n"
     ]
    }
   ],
   "source": [
    "# Do simple linear regression for x = Age, y = Hours\n",
    "slr = np.polyfit(df['Age'], df['Hours'], 3) #(x,y)\n",
    "print(\"3rd order poly fit: \", slr)\n",
    "# Calculate the correlation matrix.\n",
    "print(np.corrcoef(df['Age'], df['Hours']))\n",
    "# Square off-diagonal element to get Rsquared. [row=0][col=1]\n",
    "print(\"R squared for this fit is:\", round(np.corrcoef(df['Age'], df['Hours'])[0][1] ** 2, 3))"
   ]
  },
  {
   "cell_type": "markdown",
   "metadata": {},
   "source": [
    "***\n",
    "# References\n",
    "*Note: As references were hyper-linked a few weeks into the project, approximate dates of first access are given if exact date unknown. Help found online for any Python code is acknowledged as a comment beside the code itself.*"
   ]
  },
  {
   "cell_type": "markdown",
   "metadata": {},
   "source": [
    "### Software and packages used to complete this project\n",
    "\n",
    "1. [Anaconda Distribution for Python](https://www.anaconda.com/) (Accessed Nov. 2019)\n",
    "- [Python Software Foundation](https://www.python.org/) (Accessed Nov. 2019)\n",
    "- [Project Jupyter](https://jupyter.org/) (Accessed Nov. 2019)\n",
    "- [nbviewer: Sharing Jupyter notebooks](https://nbviewer.jupyter.org/) (Accessed Nov. 2019)\n",
    "- [matplotlib: Python plotting library](https://matplotlib.org/) (Accessed Nov. 2019)\n",
    "- [NumPy](https://numpy.org/) (Accessed Nov. 2019)\n",
    "- [GitHub](https://github.com/) (Accessed Nov. 2019)\n",
    "- Python for Data Analysis: Data Wrangling with Pandas, NumPy, and IPython Wes McKinney. ISBN-13: 978-1491957660 ISBN-10:1491957662\n",
    "- [Random sampling (numpy.random)](https://docs.scipy.org/doc/numpy-1.16.0/reference/routines.random.html)(Accessed Nov. 2019)\n",
    "- [scipy.stats](https://docs.scipy.org/doc/scipy/reference/stats.html) (Accessed Nov. 2019)"
   ]
  },
  {
   "cell_type": "markdown",
   "metadata": {},
   "source": [
    "### Myopia\n",
    "\n",
    "11. [WIKIPEDIA: Near-sightedness](https://en.wikipedia.org/wiki/Near-sightedness) (Accessed Nov. 2019)\n",
    "\n",
    "- [All about vision: What is myopia?](https://www.allaboutvision.com/conditions/myopia-faq/what-is-myopia.htm) (Accessed Nov. 2019)\n",
    "\n",
    "- [VISION EXCELLENCE: Myopia (short-sightedness)](https://www.visionexcellence.com.au/common-eye-conditions/myopia-short-sightedness/) (Accessed Nov. 2019)\n",
    "\n",
    "- [IMI – Defining and Classifying Myopia: A Proposed Set of Standards for Clinical and Epidemiologic Studies](https://iovs.arvojournals.org/article.aspx?articleid=2727312) (Accessed Nov. 2019)\n",
    "\n",
    "- [Health Service Executive: Myopia](https://www.hse.ie/eng/health/az/m/myopia/treating-short-sightedness.html) (Accessed Nov. 2019)\n",
    "\n",
    "- [Cooper Vision: MiSight 1 day lenses](https://coopervision.co.uk/contact-lenses/misight-1-day) (Accessed Nov. 2019)\n",
    "\n",
    "- [American Academy of Ophthalmology: Global Prevalence of Myopia and High Myopia and Temporal Trends from 2000 through 2050](https://www.aaojournal.org/article/S0161-6420(16)00025-7/abstract) (Accessed Nov. 2019)\n",
    "\n",
    "- [All about vision: Why myopia progression is a concern.](https://www.allaboutvision.com/parents/myopia-progression.htm) (Accessed Nov. 2019)"
   ]
  },
  {
   "cell_type": "markdown",
   "metadata": {},
   "source": [
    "### Education\n",
    "19. [Education linked to higher risk of short-sightedness](https://www.bmj.com/company/newsroom/education-linked-to-higher-risk-of-short-sightedness/) (Accessed 8 Dec. 2019)"
   ]
  },
  {
   "cell_type": "markdown",
   "metadata": {},
   "source": [
    "### Socio-economic status\n",
    "\n",
    "20. [Measuring Socioeconomic Status and Subjective Social Status](https://www.apa.org/pi/ses/resources/class/measuring-status) (Accessed Dec. 2019)\n",
    "\n",
    "- [BBC: What is your 21st Century social class?](https://www.bbc.com/news/magazine-34766169) (Accessed Dec. 2019)"
   ]
  },
  {
   "cell_type": "markdown",
   "metadata": {},
   "source": [
    "### Myopia and genetics\n",
    "\n",
    "22. [Insight into the molecular genetics of myopia](https://www.ncbi.nlm.nih.gov/pmc/articles/PMC5757860/) (Accessed Nov. 2019) *Technical*\n",
    "\n",
    "- [Stanford at The Tech: Understanding Genetics](https://genetics.thetech.org/ask/ask73) (Accessed Nov. 2019)\n",
    "\n",
    "- [Science Daily: New genetic risk factors for myopia discovered](https://www.sciencedaily.com/releases/2016/04/160421133905.htm) (Accessed Nov. 2019)\n",
    "\n",
    "- [All About Vision: Is being nearsighted genetic?](https://www.allaboutvision.com/conditions/myopia-faq/is-being-nearsighted-genetic.htm) (Accessed Nov. 2019)\n",
    "\n",
    "- [Component dependent risk factors for ocular parameters in Singapore Chinese children](https://www.aaojournal.org/article/S0161-6420(02)01220-4/fulltext) (Accessed 10 Dec. 2019)"
   ]
  },
  {
   "cell_type": "markdown",
   "metadata": {},
   "source": [
    "### Refraction\n",
    "\n",
    "27. [Characteristics of Refractive Errors in a Population of Adults in the Central Region of Poland](https://www.ncbi.nlm.nih.gov/pmc/articles/PMC5800189/) (Accessed Nov. 2019)\n",
    "\n",
    "- [Moorfields Eye Hospital NHS Foundation Trust: Myopia (short sight)](https://www.moorfields.nhs.uk/condition/myopia-short-sight) (Accessed Dec. 2019) *About three in 10 people in the UK are short-sighted and about 5% of those have severe myopia*\n",
    "\n",
    "- [Study shows myopia prevalence in children in the UK has more than doubled in the last 50 years](https://www.college-optometrists.org/the-college/media-hub/news-listing/nicer-myopia-children.html) (Accessed 10 Dec. 2019) *children with one parent with myopia are at least three times more likely to be myopic than those without a myopic parent. This increases to over seven times more likely when both parents are myopes*"
   ]
  },
  {
   "cell_type": "markdown",
   "metadata": {},
   "source": [
    "### Age\n",
    "\n",
    "30. [WIKIPEDIA: Population pyramid](https://en.wikipedia.org/wiki/Population_pyramid) (Accessed Nov. 2019)\n",
    "\n",
    "- [StackExchange: If my histogram shows a bell-shaped curve, can I say my data is normally distributed?](https://stats.stackexchange.com/questions/129417/if-my-histogram-shows-a-bell-shaped-curve-can-i-say-my-data-is-normally-distrib) (Accessed Nov. 2019)\n",
    "\n",
    "- [Central Statistics Office:  E3001: Enumerated Population 1926 to 2016 by Age Group, Sex and CensusYear](https://statbank.cso.ie/px/pxeirestat/Statire/SelectVarVal/Define.asp?maintable=E3001&PLanguage=0) (Accessed Nov. 2019)"
   ]
  },
  {
   "cell_type": "markdown",
   "metadata": {},
   "source": [
    "### Environmental factors as related to myopia\n",
    "\n",
    "33. [Healio Primary Care Optometry News: Time outdoors reduces myopia risk in subset of children](https://www.healio.com/optometry/pediatrics/news/online/%7B7aa57b69-30ea-44fb-9f44-5159e62a6f79%7D/time-outdoors-reduces-myopia-risk-in-subset-of-children) Accessed Nov. 2019\n",
    "\n",
    "- [Time spent in outdoor activities in relation to myopia prevention and control: a meta‐analysis and systematic review](https://www.ncbi.nlm.nih.gov/pmc/articles/PMC5599950/) Accessed Nov. 2019\n",
    "\"Saw et al. [9] showed that compared to children of nonmyopic parents, children of myopic parents have a higher degree of myopia (average, 0.39 D for those with one myopic parent and 0.74 D for those with two myopic parents)\"\n",
    "\n",
    "- [The association between time spent outdoors and myopia in children and adolescents: a systematic review and meta-analysis.](https://www.ncbi.nlm.nih.gov/pubmed/22809757) Accessed Nov. 2019\n",
    "\n",
    "- [Scientists Determine the Exact Amount of Time We Should Be Spending Outside](https://www.inverse.com/article/56685-nature-outdoors-mental-health-link) Accessed Nov. 2019\n",
    "\n",
    "- [Independent: CHILDREN SPEND TWICE AS LONG LOOKING AT SCREENS THAN PLAYING OUTSIDE, STUDY FINDS](https://www.independent.co.uk/life-style/children-screens-play-outside-computer-phone-time-healthy-games-a8603411.html) Accessed Nov. 2019\n",
    "\n",
    "- [Child in the City: Children spend half the time playing outside in comparison to their parents](https://www.childinthecity.org/2018/01/15/children-spend-half-the-time-playing-outside-in-comparison-to-their-parents/?gdpr=accept) Accessed Nov. 2019\n",
    "\n",
    "- [The National Human Activity Pattern Survey (NHAPS)](https://www.nature.com/articles/7500165.pdf?origin=ppub) Accessed Dec. 2019\n",
    "\n",
    "- [US Bureau of Labor Statistics: Average hours per day spent in selected activities by age](https://www.bls.gov/charts/american-time-use/activity-by-age.htm) Accessed Dec. 2019\n",
    "\n",
    "- [Flowing Data: How People Like You Spend Their Time (interactive tool based on above reference)](https://flowingdata.com/2016/12/06/how-people-like-you-spend-their-time/) Accessed Dec. 2019"
   ]
  },
  {
   "cell_type": "markdown",
   "metadata": {},
   "source": [
    "### General\n",
    "42. [PurpleBooth/README-Template.md](https://gist.github.com/PurpleBooth/109311bb0361f32d87a2) (Accessed 7 Dec. 2019)"
   ]
  }
 ],
 "metadata": {
  "kernelspec": {
   "display_name": "Python 3",
   "language": "python",
   "name": "python3"
  },
  "language_info": {
   "codemirror_mode": {
    "name": "ipython",
    "version": 3
   },
   "file_extension": ".py",
   "mimetype": "text/x-python",
   "name": "python",
   "nbconvert_exporter": "python",
   "pygments_lexer": "ipython3",
   "version": "3.7.3"
  }
 },
 "nbformat": 4,
 "nbformat_minor": 2
}
